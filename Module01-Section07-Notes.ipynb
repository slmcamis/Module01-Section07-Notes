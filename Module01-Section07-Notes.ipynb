{
 "cells": [
  {
   "cell_type": "markdown",
   "metadata": {},
   "source": [
    "# Module 1"
   ]
  },
  {
   "cell_type": "markdown",
   "metadata": {},
   "source": [
    "# Section 7"
   ]
  },
  {
   "cell_type": "markdown",
   "metadata": {},
   "source": [
    "## Variance"
   ]
  },
  {
   "cell_type": "markdown",
   "metadata": {},
   "source": [
    "__Variance__ (represented by $\\sigma^2$) is a measure of dispersion for continuous random variables from its expected mean value. The formula for calculating variance is shown below:\n",
    "\n",
    "$$\\sigma^2 = \\dfrac{1}{n}\\displaystyle\\sum_{i=1}^{n}(x_i-\\mu)^2$$\n",
    "\n",
    "- $x$ represents an individual data points\n",
    "- $\\mu $ is the sample mean of the data points\n",
    "- $n$ is the total number of data points "
   ]
  },
  {
   "cell_type": "markdown",
   "metadata": {},
   "source": [
    "## Covariance"
   ]
  },
  {
   "cell_type": "markdown",
   "metadata": {},
   "source": [
    "__Covariance__ provides a measure of the strength of the correlation between two or more sets of random variables. If you have $X$ and $Y$, two random variables having $n$ elements each. You can calculate covariance ($\\sigma_{xy}$) between these two variables by using the formula:\n",
    "\n",
    "$$\\sigma_{XY} = \\dfrac{1}{n}\\displaystyle\\sum_{i=1}^{n}(x_i -\\mu_x)(y_i - \\mu_y)$$\n",
    "\n",
    "- $\\sigma_{XY}$ = Covariance between $X$ and $Y$\n",
    "- $x_i$ = ith element of variable $X$\n",
    "- $y_i$ = ith element of variable $Y$\n",
    "- $n$ = number of data points (__$n$ must be same for $X$ and $Y$__)\n",
    "- $\\mu_x$ = mean of the independent variable $X$\n",
    "- $\\mu_y$ = mean of the dependent variable $Y$\n",
    "\n",
    "\n",
    "#### Interpreting Covariance Values\n",
    "\n",
    "* A **positive covariance** indicates that two variables are **positively related**\n",
    "\n",
    "* A **negative covariance** indicates that two variables are **inversely related**\n",
    "\n",
    "* A **covariance equal or close to 0** indicates that there is **no linear relationship** between two variables\n",
    "\n",
    "\n",
    "Covariance does not tell us anything about to what extent they are negative or positively related."
   ]
  },
  {
   "cell_type": "markdown",
   "metadata": {},
   "source": [
    "## Correlation"
   ]
  },
  {
   "cell_type": "markdown",
   "metadata": {},
   "source": [
    "Correlation is calculated by **standardizing covariance** by some measure of variability in the data. It is important to normalize this degree of variation into a standard unit, with interpretable results, *independent of the units of data*."
   ]
  },
  {
   "cell_type": "markdown",
   "metadata": {},
   "source": [
    "### Pearson's Correlation Coefficient $r$"
   ]
  },
  {
   "cell_type": "markdown",
   "metadata": {},
   "source": [
    "__Pearson Correlation Coefficient__, $r$, also called the __linear correlation coefficient__, measures the strength and the direction of a __linear relationship__ between two variables. This coefficient quantifies the degree to which a relationship between two variables can be described by a line. \n",
    "\n",
    "Pearson Correlation ($r$) is calculated using following formula :\n",
    "\n",
    "$$ r = \\frac{\\sum_{i=1}^{n}(x_i -\\mu_x)(y_i - \\mu_y)} {\\sqrt{\\sum_{i=1}^{n}(x_i - \\mu_x)^2 \\sum_{i=1}^{n}(y_i-\\mu_y)^2}}$$\n",
    "\n",
    "So just like in the case of covariance,  $X$ and $Y$ are two random variables having n elements each. \n",
    "\n",
    "\n",
    "- $x_i$ = ith element of variable $X$\n",
    "- $y_i$ = ith element of variable $Y$\n",
    "- $n$ = number of data points (__$n$ must be same for $X$ and $Y$__)\n",
    "- $\\mu_x$ = mean of the independent variable $X$\n",
    "- $\\mu_y$ = mean of the dependent variable $Y$\n",
    "- $r$ = Calculated Pearson Correlation\n",
    "\n",
    "> _The Pearson Correlation formula always gives values in a range between -1 and 1_\n",
    "\n",
    "Pearson Correlation, which is a linear measure can be identified through a scatter plot by inspecting the \"linearity of association\" between two variables. "
   ]
  },
  {
   "cell_type": "markdown",
   "metadata": {},
   "source": [
    "### Correlation is not Causation\n",
    "\n",
    "**Consider Hidden Factors**\n",
    "After finding the correlation, we cannot conclude causation. Instead, we should take time to find other underlying factors as correlation is just the first step. Find the hidden factors, verify if they are correct and then conclude."
   ]
  },
  {
   "cell_type": "markdown",
   "metadata": {},
   "source": [
    "## Key Takeaways\n",
    "- Correlation is dimensionless, i.e. it is a unit-free measure of the relationship between variables. \n",
    "- Correlation is a normalized form of covariance and exists between [0,1]\n",
    "- Correlation is not causation"
   ]
  },
  {
   "cell_type": "markdown",
   "metadata": {},
   "source": [
    "**IMPORTANT NOTE:** The variance formula used in this lesson considers $X$ and $Y$ to be population variables.  For samples, we divide by (n-1), instead of n due to the principle called Bessel's correction. "
   ]
  },
  {
   "cell_type": "markdown",
   "metadata": {},
   "source": [
    "## Correlation and Covariance Lab"
   ]
  },
  {
   "cell_type": "markdown",
   "metadata": {},
   "source": [
    "https://github.com/slmcamis/dsc-correlation-covariance-lab-online-ds-ft-051319"
   ]
  },
  {
   "cell_type": "markdown",
   "metadata": {},
   "source": [
    "## Statistical Learning Theory"
   ]
  },
  {
   "cell_type": "markdown",
   "metadata": {},
   "source": [
    "Statistical Learning Theory is a framework that is based on the idea of using data along with statistics to provide a framework for learning.\n",
    "\n",
    "In Statistical Learning Theory, the main idea is to **construct a model** to draw certain conclusions from data, and next, to **use this model** to make predictions.\n",
    "\n",
    "In the context of Statistical learning, there are two main types of data:\n",
    "\n",
    "* **Dependent variables**: data that can be controlled directly (other names: outcome variables, target variables, response variables) \n",
    "* **Independent variables**: data that cannot be controlled directly (other names: predictor variables, input variables, explanatory variables, features)\n",
    "\n",
    "In models, the independent variable(s) are the variables that will affect (or will lead to a change in) the dependent variable(s).\n",
    "\n",
    "Conventionally, the independent variable goes on the x-axis, or the horizontal axis.\n",
    "\n",
    "A **statistical model** can be thought of as some kind of a transformation that helps us express dependent variables as a function of one or more independent variables. It defines a **relationship** between a dependent and an independent variable. \n",
    "\n",
    "We can define and **fit** such a straight line to our data following a straight line equation: \n",
    "\n",
    "$$y = m  x + c$$ \n",
    "\n",
    "Another common way of writing a linear equation is ($\\beta$ is the Greek letter \"beta\"):\n",
    "\n",
    "$$y = \\beta_0 + \\beta_1  x $$ \n",
    "\n",
    "> A model is expressed as a mathematical equation showing the relationship between dependent and independent variables. \n",
    "\n",
    "**Model Parameters** are the coefficients of the model equation for estimating the output. \n",
    "\n",
    "Statistical Learning is all about learning these parameters so that we can predict a value of $y$ for a given value of $x$.\n",
    "\n",
    "A model that estimates the income could look like:\n",
    "\n",
    "$$income = \\beta_0 + \\beta_1 *  \\text{age} + \\beta_2 * \\text{education level}$$\n",
    "\n",
    "Here we have two independent variables i.e. age and education level, with the same dependent variable, income. $\\beta_0$, $\\beta_1$ and $\\beta_2$ are model parameters."
   ]
  },
  {
   "cell_type": "markdown",
   "metadata": {},
   "source": [
    "### Model Generalization\n",
    "\n",
    "As the data which is available to us for modeling is finite, the available data needs to be used very effectively to build and **validate** a model. Validation of the model usually makes the model more **generalizable** for unseen situations.\n",
    "\n",
    "A model is trained by presenting examples to it. The model tweaks its parameters to better understand the data. Once the training is over, the model is unleashed upon new data and then uses what it has learned to explain that data. We must be careful not to **over-train** the model on the training data or else it will have a large prediction error when presented with new data. If that happens, we say that the **model is not capable of generalizing**, or that **model is over-fitting the training data**. \n",
    "\n",
    "In order to create good predictive models in machine learning that are capable of generalizing, one needs to know when to stop training the model so that it doesn't over-fit."
   ]
  },
  {
   "cell_type": "markdown",
   "metadata": {},
   "source": [
    "### Model Validation\n",
    "\n",
    ">**Model validation is a process of controlling over-fitting and allow a higher degree of generalizability.**\n",
    "\n",
    "Here is how we perform validation, in its simplest form:\n",
    "\n",
    "* Split the data into two parts with a 70/30 , 80/20 or s similar split\n",
    "\n",
    "* Use the larger part for training so the model learns from it. This set of data is normally called the **training data**\n",
    "\n",
    "* Use the smaller part for testing the model. This is data is not being used during the model learning process and used only for testing the performance of a learned model. This dataset is called as the **testing data**\n",
    "\n",
    "In statistical learning, if the model has learned well from the training data, it will perform well on both training data **and** test data. You can then use the test data to calculate the **accuracy**, which is assessed based on how close it has estimated the output to the actual value."
   ]
  },
  {
   "cell_type": "markdown",
   "metadata": {},
   "source": [
    "### Model Loss \n",
    "\n",
    "> **A loss function evaluates how well your model represents the relationship between data variables**. \n",
    "\n",
    "The individual distance of each point from the line is the **loss** that the model exhibits. These individual losses, which is essentially the **vertical distance between the individual data points and the line** are taken into account to calculate the overall model loss. \n",
    "\n",
    "If the model is unable to identify the underlying relationship between the independent and dependent variable(s), the loss function will output a very high number. If the relationship is well modeled, the loss will be low. As we change parameters of our model to try and improve results, our loss function will help us determine if we are on the right track."
   ]
  },
  {
   "cell_type": "markdown",
   "metadata": {},
   "source": [
    "## Simple Linear Regression"
   ]
  },
  {
   "cell_type": "markdown",
   "metadata": {},
   "source": [
    "Regression Analysis is a __parametric__ technique used to **predict** the value of an unknown target variable (or dependent variable) $y$ based on one or more of known input features (or independent variables, predictors), often denoted by $x$. \n",
    "\n",
    "In general, regression analysis helps us in the following ways:\n",
    "\n",
    "* Finding an **association** or relationship between certain phenomenons or variables\n",
    "* Identifying **which variables contribute** more towards the outcomes\n",
    "* **Prediction** of future observations\n",
    "\n",
    "**Simple Linear Regression** uses a single feature (one independent variable) to model a linear relationship with a target (the dependent variable) by fitting an optimal model (i.e. the best straight line) to describe this relationship.  \n",
    "\n",
    "Multiple Linear Regression uses more than one features to predict a target variable by fitting the best linear relationship. \n",
    "\n",
    "Slope_ and _Intercept_ are the **coefficients** or the **parameters** of a linear regression model. Calculating the regression model simply involves the calculation of these two values. \n",
    "\n",
    "When we draw our regression line, we use the following notations:\n",
    "\n",
    "$$\\hat{y}=\\hat m x+ \\hat{c}$$ or \n",
    "$$\\hat y =  \\hat \\beta_0+ \\hat \\beta_1 x $$\n",
    "\n",
    "As you can see, you're using a \"hat\" notation which stands for the fact that we are working with **estimations**.\n",
    "- When trying to draw a \"best fit line\", you're **estimating** the most appropriate value possible for your intercept and your slope, hence $\\hat{c}$ /$ \\hat \\beta_0 $ and  $\\hat{m}$ /$ \\hat \\beta_1 $.\n",
    "- Next, when we use our line to predict new values $y$ given $x$, your estimate is an **approximation** based on our estimated parameter values. Hence we use $\\hat y $ instead of $y$. $\\hat y$ lies _ON_ your regression line, $y$ is the associated y-value for each of the blue diamonds in the plot below. The **error** or the **vertical offset** between the line and the actual observation values can be written as $\\mid \\hat y - y\\mid$."
   ]
  },
  {
   "cell_type": "markdown",
   "metadata": {},
   "source": [
    "### Calculating Best-Fit Line\n",
    "\n",
    "* The mean of the X $(\\bar{X})$\n",
    "\n",
    "* The mean of the Y $(\\bar{Y})$\n",
    "\n",
    "* The standard deviation of the X values $(S_X)$\n",
    "\n",
    "* The standard deviation of the y values $(S_Y)$\n",
    "\n",
    "* The correlation between X and Y ( often denoted by the Greek letter \"Rho\" or $\\rho$ - Pearson Correlation)\n",
    "\n",
    "We can calculate the **slope** (shown as $b$ below) of the best-fit line, using the formula:\n",
    "\n",
    "$$\\hat m = \\rho \\frac{S_Y}{S_X}$$\n",
    "\n",
    "This formula is also known as the **least squares method**.\n",
    "\n",
    "Once we have the slope value, we can put it back into our formula $(\\hat y = \\hat m x+ \\hat c)$ to calculate the **intercept**."
   ]
  },
  {
   "cell_type": "markdown",
   "metadata": {},
   "source": [
    "## Simple Linear Regression Lab"
   ]
  },
  {
   "cell_type": "markdown",
   "metadata": {},
   "source": [
    "https://github.com/slmcamis/dsc-simple-linear-regression-lab"
   ]
  },
  {
   "cell_type": "code",
   "execution_count": 18,
   "metadata": {},
   "outputs": [],
   "source": [
    "# import necessary libraries\n",
    "\n",
    "import numpy as np\n",
    "import matplotlib.pyplot as plt\n",
    "from matplotlib import style\n",
    "style.use('ggplot')\n",
    "\n",
    "# Initialize vectors X and Y with given values and \n",
    "# create a scatter plot\n",
    "X = np.array([1,2,3,4,5,6,8,8,9,10], dtype=np.float64)\n",
    "Y = np.array([7,7,8,9,9,10,10,11,11,12], dtype=np.float64)"
   ]
  },
  {
   "cell_type": "code",
   "execution_count": 11,
   "metadata": {},
   "outputs": [
    {
     "data": {
      "image/png": "[encoded data removed]",
      "text/plain": [
       "<Figure size 432x288 with 1 Axes>"
      ]
     },
     "metadata": {
      "needs_background": "light"
     },
     "output_type": "display_data"
    }
   ],
   "source": [
    "# Scatter plot\n",
    "plt.scatter(X,Y)\n",
    "plt.show()"
   ]
  },
  {
   "cell_type": "code",
   "execution_count": 12,
   "metadata": {},
   "outputs": [
    {
     "data": {
      "text/plain": [
       "0.5393518518518512"
      ]
     },
     "execution_count": 12,
     "metadata": {},
     "output_type": "execute_result"
    }
   ],
   "source": [
    "# Write the function to calculate slope as: \n",
    "# (mean(x) * mean(y) – mean(x*y)) / ( mean (x)^2 – mean( x^2))\n",
    "def calc_slope(xs,ys):\n",
    "    \n",
    "    # Use the slope formula above and calculate the slope\n",
    "    m = (((np.mean(xs)*np.mean(ys)) - np.mean(xs*ys)) /\n",
    "         ((np.mean(xs)**2) - np.mean(xs*xs)))\n",
    "    \n",
    "    return m\n",
    "\n",
    "calc_slope(X,Y)\n",
    "\n",
    "# 0.5393518518518512"
   ]
  },
  {
   "cell_type": "code",
   "execution_count": 13,
   "metadata": {},
   "outputs": [
    {
     "data": {
      "text/plain": [
       "(0.5393518518518512, 6.379629629629633)"
      ]
     },
     "execution_count": 13,
     "metadata": {},
     "output_type": "execute_result"
    }
   ],
   "source": [
    "def best_fit(xs,ys):\n",
    "    \n",
    "    # use the slope function with intercept formula to \n",
    "    # return calculate slope and intercept from data points\n",
    "    m = calc_slope(xs,ys)\n",
    "    c = np.mean(ys) - m*np.mean(xs)\n",
    "    \n",
    "    return m, c\n",
    "\n",
    "m, c = best_fit(X,Y)\n",
    "m, c\n",
    "# (0.5393518518518512, 6.379629629629633)"
   ]
  },
  {
   "cell_type": "code",
   "execution_count": 14,
   "metadata": {},
   "outputs": [],
   "source": [
    "def reg_line (m, c, xs):\n",
    "    \n",
    "    return [(m*x)+c for x in xs]\n",
    "\n",
    "regression_line = reg_line(m,c,X)"
   ]
  },
  {
   "cell_type": "code",
   "execution_count": 15,
   "metadata": {},
   "outputs": [
    {
     "data": {
      "image/png": "[encoded data removed]",
      "text/plain": [
       "<Figure size 432x288 with 1 Axes>"
      ]
     },
     "metadata": {
      "needs_background": "light"
     },
     "output_type": "display_data"
    }
   ],
   "source": [
    "plt.scatter(X,Y,color='#003F72', label=\"Data points\")\n",
    "plt.plot(X, regression_line, label= \"Regression Line\")\n",
    "plt.legend()\n",
    "plt.show()"
   ]
  },
  {
   "cell_type": "code",
   "execution_count": 16,
   "metadata": {},
   "outputs": [
    {
     "data": {
      "text/plain": [
       "10.155092592592592"
      ]
     },
     "execution_count": 16,
     "metadata": {},
     "output_type": "execute_result"
    }
   ],
   "source": [
    "x_new = 7\n",
    "y_predicted = (m*x_new)+c\n",
    "y_predicted\n",
    "\n",
    "# 10.155092592592592"
   ]
  },
  {
   "cell_type": "code",
   "execution_count": 17,
   "metadata": {},
   "outputs": [
    {
     "data": {
      "image/png": "[encoded data removed]",
      "text/plain": [
       "<Figure size 432x288 with 1 Axes>"
      ]
     },
     "metadata": {
      "needs_background": "light"
     },
     "output_type": "display_data"
    }
   ],
   "source": [
    "plt.scatter(X,Y,color='#000F72',label='data')\n",
    "plt.plot(X, regression_line, color='#880000', \n",
    "         label='regression line')\n",
    "plt.scatter(x_new,y_predicted,color='r',\n",
    "            label='Prediction: ' + \n",
    "            str(np.round(y_predicted,1)))\n",
    "plt.legend(loc=4)\n",
    "plt.show()"
   ]
  },
  {
   "cell_type": "markdown",
   "metadata": {},
   "source": [
    "## Coefficient of Determination"
   ]
  },
  {
   "cell_type": "markdown",
   "metadata": {},
   "source": [
    "The **$R^2$ or Coefficient of determination** is a statistical measure that is used to assess the goodness of fit of a regression model. R-Squared uses a so-called \"baseline\" model which is the worst model. The baseline model uses the mean of the observed responses of the dependent variable $y$ and always predicts this mean as the value of $y$ for any value of $x$. R-Squared explains how good is your model when compared to the baseline model.\n",
    "\n",
    "The mathematical formula to calculate R-Squared for a linear regression line is in terms of **squared errors** for the fitted model and the baseline model. It's calculated as:\n",
    "\n",
    "$$ \\large R^2 = 1- \\dfrac{SS_{RES}}{SS_{TOT}} = \\dfrac{\\sum_i(y_i - \\hat y_i)^2}{\\sum_i(y_i - \\overline y_i)^2} $$\n",
    "\n",
    "* $SS_{RES}$ (also called RSS) is the **Residual** sum of squared errors of our regression model also known as **$SSE$** (Sum of Squared Errors). $SS_{RES}$ is the squared difference between $y$ and $\\hat y$. For the one highlighted observation in our graph above, the $SS_{RES}$ is denoted by the red arrow. This part of the error is not explained by our model.\n",
    "\n",
    "\n",
    "* $SS_{TOT}$ (also called TSS)is the **Total** sum of squared error. $SS_{TOT}$ is the squared difference between $y$ and $\\overline y$. For the one highlighted observation in our graph above, the $SS_{TOT}$ is denoted by the green arrow.\n",
    "\n",
    "You can interpret R-Squared as \"1 - the proportion of the variance _not_ explained by the model\", which means as much as \"the variation explained by the model\". As a result, you'll want to maximize the R-Squared.\n",
    "\n",
    "For completion, \n",
    "\n",
    "* $SS_{EXP}$ (also called ESS) is the **Explained** sum of squared error. $SS_{EXP}$ is the squared difference between $\\hat y$ and $\\overline y$. For the one highlighted observation in our graph above, the $SS_{EXP}$ is denoted by the blue arrow.\n",
    "\n",
    "> **R-Squared can take value between 0 and 1 where values closer to 0 represent a poor fit and values closer to 1 represent an (almost) perfect fit. It can be verbalized as \"__% of the variations in dependent variable $y$ are explained by the independent variable in our model.\"**"
   ]
  },
  {
   "cell_type": "markdown",
   "metadata": {},
   "source": [
    "## Coefficient of Determination Lab"
   ]
  },
  {
   "cell_type": "markdown",
   "metadata": {},
   "source": [
    "https://github.com/slmcamis/dsc-coefficient-of-determination-lab-online-ds-ft-051319"
   ]
  },
  {
   "cell_type": "code",
   "execution_count": 26,
   "metadata": {},
   "outputs": [
    {
     "data": {
      "text/plain": [
       "2"
      ]
     },
     "execution_count": 26,
     "metadata": {},
     "output_type": "execute_result"
    }
   ],
   "source": [
    "# Calculate sum of squared errors between regression\n",
    "# and mean line \n",
    "import numpy as np\n",
    "\n",
    "def sq_err(y_a, y_b):\n",
    "    squared_error = 0\n",
    "    for x in range(0,len(y_a)):\n",
    "        squared_error += (y_a[x] - y_b[x]) ** 2\n",
    "    \n",
    "    return squared_error\n",
    "\n",
    "# Check the output with some toy data\n",
    "Y_a = np.array([1,3,5,7])\n",
    "Y_b = np.array([1,4,5,8])\n",
    "\n",
    "sq_err(Y_a, Y_b)\n",
    "\n",
    "# 2"
   ]
  },
  {
   "cell_type": "code",
   "execution_count": 25,
   "metadata": {},
   "outputs": [
    {
     "data": {
      "text/plain": [
       "0.35"
      ]
     },
     "execution_count": 25,
     "metadata": {},
     "output_type": "execute_result"
    }
   ],
   "source": [
    "# Calculate Y_mean , squared error for regression and \n",
    "# mean line , and calculate r-squared\n",
    "\n",
    "def r_squared(y_real, y_predicted):\n",
    "    # calculate the numereator\n",
    "    num = sq_err(y_real, y_predicted)\n",
    "    #calculate the denominator\n",
    "    denom = 0\n",
    "    for x in y_real:\n",
    "        denom += (x - y_real.mean()) **2\n",
    "    return 1 - (num/denom)\n",
    "    \n",
    "# Check the output with some toy data\n",
    "Y = np.array([1,3,5,7])\n",
    "Y_pred = np.array([1,5,5,10])\n",
    "\n",
    "r_squared(Y, Y_pred)\n",
    "\n",
    "# 0.35"
   ]
  },
  {
   "cell_type": "markdown",
   "metadata": {},
   "source": [
    "## Complete Regression Lab"
   ]
  },
  {
   "cell_type": "markdown",
   "metadata": {},
   "source": [
    "https://github.com/slmcamis/dsc-complete-regression-lab-online-ds-ft-051319"
   ]
  },
  {
   "cell_type": "code",
   "execution_count": 24,
   "metadata": {},
   "outputs": [
    {
     "name": "stdout",
     "output_type": "stream",
     "text": [
      "Basic Regression Diagnostics\n",
      "----------------------------\n",
      "Slope: 0.56\n",
      "Y-Intercept: 6.33\n",
      "R-Squared: 0.97\n",
      "----------------------------\n",
      "Model: Y = 0.56 * X + 6.33\n"
     ]
    },
    {
     "data": {
      "image/png": "[encoded data removed]",
      "text/plain": [
       "<Figure size 432x288 with 1 Axes>"
      ]
     },
     "metadata": {},
     "output_type": "display_data"
    }
   ],
   "source": [
    "# Combine all the functions created so far to run \n",
    "# a complete regression experiment. \n",
    "# Produce an output similar to the one shown below. \n",
    "\n",
    "import numpy as np\n",
    "import matplotlib.pyplot as plt\n",
    "from matplotlib import style\n",
    "style.use('ggplot')\n",
    "\n",
    "def calc_slope(xs, ys):\n",
    "    m = (((np.mean(xs)*np.mean(ys)) - np.mean(xs*ys)) / \n",
    "        ((np.mean(xs)**2) - np.mean(xs*xs)))\n",
    "    return m\n",
    "\n",
    "def best_fit(xs, ys):\n",
    "    m = calc_slope(xs, ys)\n",
    "    c = np.mean(ys) - m*np.mean(xs)\n",
    "    return m, c\n",
    "\n",
    "def reg_line (m, c, X):\n",
    "    return [(m*x) + c for x in X]\n",
    "\n",
    "def sum_sq_err(ys_real, ys_predicted):\n",
    "    sse = sum((ys_predicted - ys_real) * \n",
    "              (ys_predicted - ys_real))\n",
    "    return sse\n",
    "\n",
    "def r_squared(ys_real,  ys_predicted):\n",
    "    y_mean = [np.mean(ys_real) for y in ys_real]\n",
    "    sq_err_reg = sum_sq_err(ys_real, ys_predicted)\n",
    "    sq_err_y_mean = sum_sq_err(ys_real, y_mean)\n",
    "    r_sq = 1 - (sq_err_reg/sq_err_y_mean)\n",
    "    return r_sq\n",
    "\n",
    "def plot_reg(X, Y, Y_pred):\n",
    "    plt.scatter(X, Y, color='blue', label='data')\n",
    "    plt.plot(X, Y_pred, label='regression line')\n",
    "    plt.legend(loc=4)\n",
    "    plt.show()\n",
    "    return None\n",
    "\n",
    "X = np.array([1,2,3,4,5,6,7,8,9,10], dtype=np.float64)\n",
    "Y = np.array([7,7,8,9,9,10,10,11,11,12], dtype=np.float64)\n",
    "\n",
    "m, c = best_fit(X, Y)\n",
    "Y_pred = reg_line(m, c, X)\n",
    "r_squared = r_squared(Y, Y_pred)\n",
    "\n",
    "print('Basic Regression Diagnostics')\n",
    "print ('----------------------------')\n",
    "print ('Slope:', round(m,2))\n",
    "print ('Y-Intercept:', round(c,2))\n",
    "print ('R-Squared:', round(r_squared,2))\n",
    "print ('----------------------------')\n",
    "print ('Model: Y =',round(m,2),'* X +', round(c,2))\n",
    "\n",
    "plot_reg(X,Y,Y_pred)"
   ]
  },
  {
   "cell_type": "code",
   "execution_count": 23,
   "metadata": {},
   "outputs": [
    {
     "data": {
      "image/png": "[encoded data removed]",
      "text/plain": [
       "<Figure size 432x288 with 1 Axes>"
      ]
     },
     "metadata": {},
     "output_type": "display_data"
    }
   ],
   "source": [
    "# Make prediction using given value and \n",
    "#visualize on the scatter plot\n",
    "x_new = 4.5\n",
    "y_new = (m*x_new) + c\n",
    "y_new\n",
    "\n",
    "plt.scatter(X, Y, color='blue', label='data')\n",
    "plt.plot(X, Y_pred, label='regression line')\n",
    "plt.scatter(x_new, y_new, color='r', label='prediction' \n",
    "            + str(np.round(y_new,1)))\n",
    "plt.legend(loc=4)\n",
    "plt.show()"
   ]
  },
  {
   "cell_type": "markdown",
   "metadata": {},
   "source": [
    "## Assumptions for Linear Regression"
   ]
  },
  {
   "cell_type": "markdown",
   "metadata": {},
   "source": [
    "Least Squares is one of the most common regression techniques for linear models. As long as our model satisfies the least squares regression assumptions, we can get the best possible estimates. If some of the necessary assumptions are not satisfied, you may not be able to get trustworthy results.\n",
    "\n",
    "### Regression is \"Parametric\"\n",
    "\n",
    "Regression is a parametric technique, which means that it uses parameters learned from the data. Certain assumptions must be made and it is **manditory** that underlying data fulfills these assumptions. Otherwise regression makes biased, unreliable predictions."
   ]
  },
  {
   "cell_type": "markdown",
   "metadata": {},
   "source": [
    "### 1. Linearity\n",
    "\n",
    "> The linearity assumptions requires that there is a **linear relationship** between the response variable (Y) and predictor (X). Linear means that the change in Y by 1-unit change in X, is constant. The linearity assumption can best be tested with scatter plots.\n",
    "\n",
    "**Note: As an extra measure, it is also important to check for outliers as the presence of outliers in the data can have a major impact on the model.**"
   ]
  },
  {
   "cell_type": "markdown",
   "metadata": {},
   "source": [
    "### 2. Normality\n",
    "\n",
    "> The normality assumption states that the **model residuals** should follow a normal distribution.\n",
    "\n",
    "Note that the normality assumption talks about the **model residuals** and _not_ about the distributions of the **variables**! Keep in mind that the normality assumption is mandatory for the residuals, and it is useful to check normality of your variables to check for weirdness (more on data distributions later), but OLS works fine for non-normal data distributions in the context of prediction. The easiest way to check for the normality assumption is with histograms or a Q-Q-Plots. \n",
    "\n",
    "#### Histograms\n",
    "You can use histograms to check the errors generated by the model and see if the plot shows a so-called \"normal distribution\" (bell curve shape). As the error term follows a normal distribution, we can develop better confidence in the results and calculate the statistical significance. \n",
    "\n",
    "#### Q-Q Plots\n",
    "\n",
    "In statistics, a Q–Q (quantile-quantile) plot is a probability plot, which is a graphical method for comparing two probability distributions by plotting their quantiles against each other. The Q-Q plot is used to help assess if a sample comes from a known distribution such as a normal distribution. For regression, when checking if the data in this sample is normally distributed, we can use a Normal Q-Q plot to test that assumption. If you can reject normality through Q-Q plots, you have saved yourself from a lot of statistical testing. \n",
    "\n",
    "Q-Q plots can help you validate the assumption of normally distributed residuals. It uses standardized values of residuals to determine the normal distribution of errors. Ideally, this plot should show a straight line. A curved, distorted line suggests residuals have a non-normal distribution.\n",
    "\n",
    "Normality can also be checked with goodness of fit tests such as the Kolmogorov-Smirnov test.  When the data is not normally distributed, there are some ways to fix that, such as a non-linear transformation (e.g., log-transformation)."
   ]
  },
  {
   "cell_type": "markdown",
   "metadata": {},
   "source": [
    "### 3. Homoscedasticity \n",
    "\n",
    "> _Heteroscedasticity_ (also spelled heteroskedasticity) refers to the circumstance in which the dependent variable is unequal across the range of values of the predictor(s). The inverse of heteroscedasticity is homoscedasticity, which indicates that a dependent variable's variability is equal across values of the independent variable. **Homoscedasticity** is the third assumption necessary when creating a linear regression model.\n",
    "\n",
    "When there is heteroscedasticity in the data, a scatterplot of these variables will often create a cone-like shape. The scatter of the dependent variable widens or narrows as the value of the independent variable increases.\n",
    "\n",
    "You can also use significance tests like Breusch-Pagan / Cook-Weisberg test or White general test to detect this phenomenon. You will learn about p-values later, but for now, you can remember that, if these tests give you a p-value < 0.05, the null hypothesis can rejected, and you can assume the data is heteroscedastic.\n",
    "\n"
   ]
  },
  {
   "cell_type": "markdown",
   "metadata": {},
   "source": [
    "## Ordinary Least Squared (OLS) in Statsmodels"
   ]
  },
  {
   "cell_type": "markdown",
   "metadata": {},
   "source": [
    "Statsmodels is a powerful Python package for many types of statistical analyses. In statistics, ordinary least square (OLS) regression is a method for estimating the unknown parameters in a linear regression model. It minimizes the sum of squared vertical distances between the observed values and the values predicted by the linear approximation.\n",
    "\n",
    "For simple linear regression, Statsmodels build a regression model where  yy  is a  (n∗1)(n∗1) -vector and  xx  is a  (n∗1)(n∗1) -vector. The method returns a vector of size  nn , with  nn  the number of observations."
   ]
  },
  {
   "cell_type": "markdown",
   "metadata": {},
   "source": [
    "The next code cell shows you how to import statsmodels ols method into your working python environment. You'll also import pandas for data handling and matplotlib for visualizations."
   ]
  },
  {
   "cell_type": "code",
   "execution_count": 27,
   "metadata": {},
   "outputs": [],
   "source": [
    "import pandas as pd\n",
    "import statsmodels.api as sm\n",
    "from statsmodels.formula.api import ols\n",
    "import matplotlib.pyplot as plt\n",
    "plt.style.use('seaborn')"
   ]
  },
  {
   "cell_type": "markdown",
   "metadata": {},
   "source": [
    "Load the data using \"df = pd.read_csv('DATA.csv')\n",
    "Plot the data using \"plt.scatter(df.COLUMN1, df.COLUMN2)\n",
    "Add title ('Linearity Check') and show\n",
    "\n",
    "Next look at the distributions of the the dependent and independent variables. Note observing normality here does NOT necessarily satisfy the normality assumption.\n",
    "\"df.plot.kde()\" add title and show\n",
    "\n",
    "Now, let's run the regression. Statsmodels allows users to fit statistical models using R-style formulas. The formula framework is quite powerful and for simple regression it is written using a ~ as Y ~ X.\n",
    "\n",
    "f = 'column1 ~ column2'\n",
    "\n",
    "You can now pass the formula with variable names to ols along with fit() to fit a linear model to given variables.\n",
    "\n",
    "model = ols(formula=f, data=df).fit()"
   ]
  },
  {
   "cell_type": "markdown",
   "metadata": {},
   "source": [
    "model.summary()\n",
    "\n",
    "**Here is a brief description of these measures:**\n",
    "\n",
    "The left part of the first table gives some specifics on the data and the model:\n",
    "\n",
    "* **Dep. Variable**: Singular. Which variable is the point of interest of the model\n",
    "* **Model**: Technique used, an abbreviated version of Method (see methods for more).\n",
    "* **Method**: The loss function optimized in the parameter selection process. Least Squares since it picks the parameters that reduce the training error. This is also known as Mean Square Error [MSE].\n",
    "* **No. Observations**: The number of observations used by the model, or size of the training data.\n",
    "* **Degrees of Freedom Residuals**: Degrees of freedom of the residuals, which is the number of observations – number of parameters. Intercept is a parameter. The purpose of Degrees of Freedom is to reflect the impact of descriptive/summarizing statistics in the model, which in regression is the coefficient. Since the observations must \"live up\" to these parameters, they only have so many free observations, and the rest must be reserved to \"live up\" to the parameters' prophecy. Internal mechanism to ensures that there are enough observations to parameters.\n",
    "* **Degrees of Freedom Model**: The number of parameters in the model (not including the constant/intercept term if present)\n",
    "* **Covariance Type**: Robust regression methods are designed to be not overly affected by violations of assumptions by the underlying data-generating process. Since this model is Ordinary Least Squares, it is non-robust and therefore highly sensitive to outliers.\n",
    "\n",
    "The right part of the first table shows the goodness of fit \n",
    "\n",
    "* **R-squared**: The coefficient of determination, the Sum Squares of Regression divided by Total Sum Squares. This translates to the percent of variance explained by the model. The remaining percentage represents the variance explained by error, the E term, the part that model and predictors fail to grasp.\n",
    "* **Adj. R-squared**: Version of the R-Squared that penalizes additional independent variables. \n",
    "* **F-statistic**: A measure of how significant the fit is. The mean squared error of the model divided by the mean squared error of the residuals. Feeds into the calculation of the P-Value.\n",
    "* **Prob (F-statistic) or P-Value**: The probability that a sample like this would yield the above statistic, and whether the model's verdict on the null hypothesis will consistently represent the population. Does not measure effect magnitude, instead measures the integrity and consistency of this test on this group of data.\n",
    "* **Log-likelihood**: The log of the likelihood function.\n",
    "* **AIC**: The Akaike Information Criterion. Adjusts the log-likelihood based on the number of observations and the complexity of the model. Penalizes the model selection metrics when more independent variables are added.\n",
    "* **BIC**: The Bayesian Information Criterion. Similar to the AIC, but has a higher penalty for models with more parameters. Penalizes the model selection metrics when more independent variables are added.\n",
    "\n",
    "Second Table: Coefficient Reports \n",
    "\n",
    "* **coef**: The estimated value of the coefficient. By how much the model multiplies the independent value by.\n",
    "* **std err**: The basic standard error of the estimate of the coefficient. Average distance deviation of the points from the model, which offers a unit relevant way to gauge model accuracy.\n",
    "* **t**: The t-statistic value. This is a measure of how statistically significant the coefficient is.\n",
    "* **P > |t|**: P-value that the null-hypothesis that the coefficient = 0 is true. If it is less than the confidence level, often 0.05, it indicates that there is a statistically significant relationship between the term and the response.\n",
    "* **[95.0% Conf. Interval]**: The lower and upper values of the 95% confidence interval. Specific range of the possible coefficient values.\n",
    "\n",
    "Third Table: Residuals, Autocorrelation, and Multicollinearity \n",
    "\n",
    "* **Skewness**: A measure of the symmetry of the data about the mean. Normally-distributed errors should be symmetrically distributed about the mean (equal amounts above and below the line). The normal distribution has 0 skew.\n",
    "* **Kurtosis**: A measure of the shape of the distribution. Compares the amount of data close to the mean with those far away from the mean (in the tails), so model \"peakiness\". The normal distribution has a Kurtosis of 3, and the greater the number, the more the curve peaks.\n",
    "* **Omnibus D’Angostino’s test**: It provides a combined statistical test for the presence of skewness and kurtosis.\n",
    "* **Prob(Omnibus)**: The above statistic turned into a probability\n",
    "* **Jarque-Bera**: A different test of the skewness and kurtosis\n",
    "* **Prob (JB)**: The above statistic turned into a probability\n",
    "* **Durbin-Watson**: A test for the presence of autocorrelation (that the errors are not independent), which is often important in time-series analysis\n",
    "* **Cond. No**: A test for multicollinearity (if in a fit with multiple parameters, the parameters are related to each other)."
   ]
  },
  {
   "cell_type": "markdown",
   "metadata": {},
   "source": [
    "### Visualize error terms\n",
    "\n",
    "You can also plot some visualizations to check for regression assumptions in error terms. You'll use `sm.graphics.plot_regress_exog()` for some built-in visualization capabilities of statsmodels. \n",
    "\n",
    "fig = plt.figure(figsize=(15,8))\n",
    "\n",
    "fig = sm.graphics.plot_regress_exog(model, \"height\", fig=fig)\n",
    "\n",
    "plt.show()\n",
    "\n",
    "For the four graphs we see:\n",
    "\n",
    "* The **Y and Fitted vs. X** graph plots the dependent variable against our predicted values with a confidence interval. The positive relationship shows that height and weight are correlated correlated, i.e., when one variable increases the other increases.\n",
    "\n",
    "* The **Residuals versus height** graph shows our model's errors versus the specified predictor variable. Each dot is an observed value; the line represents the mean of those observed values. Since there's no pattern in the distance between the dots and the mean value, the OLS assumption of homoskedasticity holds.\n",
    "\n",
    "* The **Partial regression plot** shows the relationship between height and weight, taking in to account the impact of adding other independent variables on our existing height coefficient. You'll later learn how this same graph changes when you add more variables.\n",
    "\n",
    "* The **Component and Component Plus Residual (CCPR)** plot is an extension of the partial regression plot, but shows where the trend line would lie after adding the impact of adding our other independent variables on the weight."
   ]
  },
  {
   "cell_type": "markdown",
   "metadata": {},
   "source": [
    "### Q-Q Plots\n",
    "To check for the normality assumption, you can obtain error terms (residuals) from the model and draw Q-Q Plot against a standard normal distribution as shown below. While the residuals do not seem to match up perfectly with the red line, there seem to be no super clear deviations from the red line. So you can assume that you're OK for the normality assumption.\n",
    "\n",
    "import scipy.stats as stats\n",
    "\n",
    "residuals = model.resid\n",
    "\n",
    "fig = sm.graphics.qqplot(residuals, dist=stats.norm, line='45', fit=True)\n",
    "\n",
    "fig.show()"
   ]
  },
  {
   "cell_type": "markdown",
   "metadata": {},
   "source": [
    "## Ordinary Least Squares in Statsmodels (OLS) Lab"
   ]
  },
  {
   "cell_type": "markdown",
   "metadata": {},
   "source": [
    "https://github.com/slmcamis/dsc-ols-statsmodels-lab-online-ds-ft-051319"
   ]
  },
  {
   "cell_type": "markdown",
   "metadata": {},
   "source": [
    "## Regression Diagnostics in Statsmodels"
   ]
  },
  {
   "cell_type": "markdown",
   "metadata": {},
   "source": [
    "Regression diagnostics is a set of procedures available for regression analysis that assess the validity of a model in a number of different ways.\n",
    "\n",
    "This could be:\n",
    "\n",
    "- An exploration of the model's underlying statistical assumptions\n",
    "- An examination of the structure of the model by considering formulations that have less, more or different explanatory variables\n",
    "- A study of subgroups of observations, looking for those that are either poorly represented by the model (outliers) or that have a relatively large effect on the regression model's predictions\n",
    "\n",
    "### Normality Check (Q-Q plots) \n",
    "Q-Q plots are also referred to as normal density plots when used with standard normal quantiles. These plots are a good way to inspect the distribution of model errors. "
   ]
  },
  {
   "cell_type": "markdown",
   "metadata": {},
   "source": [
    "### Normality Check (Jarque-Bera Test)\n",
    "\n",
    "The Jarque-Bera (JB) test is a test for normality. This test is usually used for large data sets, because other tests like Q-Q Plots can become unreliable when your sample size is large.\n",
    "\n",
    ">The Jarque-Bera test inspects the skewness and kurtosis of data to see if it matches a normal distribution. It is a common method for inspecting errors distribution in regression as shown below. \n",
    "\n",
    "$$JB = n *\\Bigl(\\dfrac{S^2}{6} + \\dfrac{(K – 3)^2}{24}\\Bigr)$$\n",
    "\n",
    "\n",
    "Here, $n$ is the sample size, $S$ is the sample skewness coefficient and $K$ is the sample kurtosis.\n",
    "\n",
    "Here is how you use JB in statsmodels. A JB value of roughly 6 or higher indicates that errors are not normally distributed. In other words, this means that the normality null hypothesis has been rejected at the $5\\%$ significance level. A value close to 0 on the contrary, indicates the data $is$ normally distributed. We have already seen the JB test using `model.summary()`. The code below shows you how to run this test on its own."
   ]
  },
  {
   "cell_type": "markdown",
   "metadata": {},
   "source": [
    "name = ['Jarque-Bera','Prob','Skew', 'Kurtosis']\n",
    "\n",
    "test = sms.jarque_bera(model.resid)\n",
    "\n",
    "list(zip(name, test))\n",
    "\n",
    "Output:\n",
    "[('Jarque-Bera', 0.6688077048615619),\n",
    " ('Prob', 0.7157646605518615),\n",
    " ('Skew', -0.08863202396577206),\n",
    " ('Kurtosis', 2.779014973597054)]"
   ]
  },
  {
   "cell_type": "markdown",
   "metadata": {},
   "source": [
    "We have a JB value = 0.67, which is pretty low (and in favor of normality), and the p-value of 0.71 is quite high to reject the null hypothesis for normality. Additionally, the kurtosis is below 3, where a kurtosis higher than 3 indicates heavier tails than a normal distribution. The skewness values however show that underlying data is moderately skewed."
   ]
  },
  {
   "cell_type": "markdown",
   "metadata": {},
   "source": [
    "### Checking Heteroscadasticity (Goldfeld-Quandt test)\n",
    "\n",
    "The Goldfeld Quandt (GQ) test is used in regression analysis to check for homoscedasticity in the error terms. The GQ test checks if you can define a point that can be used to **differentiate** the variance of the error term. It is a parametric test and uses the assumption that the data is normally distributed. So it is general practice to check for normality before going over to the GQ test!\n",
    "\n",
    "Observations are split into two groups. Next, a test statistic is run through taking the ratio of mean square residual errors for the regressions on the two subsets. Evidence of heteroskedasticity is based on performing a hypothesis test."
   ]
  },
  {
   "cell_type": "markdown",
   "metadata": {},
   "source": [
    "- lwr_thresh = data.TV.quantile(q=.45)\n",
    "- upr_thresh = data.TV.quantile(q=.55)\n",
    "- middle_10percent_indices = data[(data.TV >= lwr_thresh) & (data.TV<=upr_thresh)].index\n",
    "- len(middle_10percent_indices)\n",
    "\n",
    "- indices = [x-1 for x in data.index if x not in middle_10percent_indices]\n",
    "- plt.scatter(data.TV.iloc[indices], model.resid.iloc[indices])\n",
    "- plt.xlabel('TV')\n",
    "- plt.ylabel('Model Residuals')\n",
    "- plt.title(\"Residuals versus TV Feature\")\n",
    "- plt.vlines(lwr_thresh, ymax=8, ymin=-8, linestyles='dashed',linewidth=2)\n",
    "- plt.vlines(upr_thresh, ymax=8, ymin=-8, linestyles='dashed',linewidth=2);\n",
    "\n",
    "Here is a brief description of the steps involved:\n",
    "\n",
    "- Order the data in ascending order\n",
    "- Split your data into three parts and drop values in the middle part.\n",
    "- Run separate regression analyses on two parts. After each regression, find the Residual Sum of Squares.\n",
    "- Calculate the ratio of the Residual sum of squares of two parts.\n",
    "- Apply the F-test.\n",
    "\n",
    "High F values typically indicate that the variances are different. If the error term is homoscedastic, there should be no systematic difference between residuals and F values will be small. However, if the standard deviation of the distribution of the error term is proportional to the x variable, one part will generate a higher sum of square values than the other.\n",
    "\n",
    "Here is how you can run this test in statsmodels."
   ]
  },
  {
   "cell_type": "markdown",
   "metadata": {},
   "source": [
    "Run Goldfeld Quandt test\n",
    "- name = ['F statistic', 'p-value']\n",
    "- test = sms.het_goldfeldquandt(model.resid.iloc[indices], model.model.exog[indices])\n",
    "- list(zip(name, test))\n",
    "\n",
    "Output: [('F statistic', 1.1993147096678916), ('p-value', 0.19780602597731686)]\n",
    "\n",
    "- import statsmodels.stats.api as sms\n",
    "- name = ['F statistic', 'p-value']\n",
    "- test = sms.het_goldfeldquandt(model2.resid.iloc[indices], model2.model.exog[indices])\n",
    "- list(zip(name, test))\n",
    "\n",
    "Output: [('F statistic', 1.2189878283402957), ('p-value', 0.1773756718718901)]\n",
    "\n",
    "The p-value for our tests above tells us whether or not to reject the null-hypothesis of homoscedasticity. Taking a confidence level of alpha = 0.05, we cannot reject the null hypothesis because for both TV and radio, p-values are larger than 0.05. So even though we visually inspected some heteroscedasticity previously, this cannot be confirmed by the GQ test."
   ]
  },
  {
   "cell_type": "markdown",
   "metadata": {},
   "source": [
    "## Interpreting Significance and P-values "
   ]
  },
  {
   "cell_type": "markdown",
   "metadata": {},
   "source": [
    "When performing hypothesis tests, a set of hypotheses are developed including a so-called **null hypothesis** and an **alternative hypothesis**. \n",
    "In regression, you will generally try to reject the null hypothesis, because that means that there is some relationship between the dependent and independent variable and your model at hand makes sense. Rejecting or not rejecting a null hypothesis always goes hand in hand with a so-called **confidence level**, often defined by the Greek letter alpha, $\\alpha$.\n",
    "\n",
    "### Hypothesis Testing in Regression \n",
    "During regression, you try to measure the model parameters (coefficients). The null and alternative hypotheses are also set up in those terms.\n",
    "\n",
    "> **Null Hypothesis ($H_0$)**: There is no relationship between the dependent and independent variables.\n",
    "\n",
    "> **Alternative Hypothesis ($H_a$):** There is \"some\" relation between the dependent and independent variables.\n",
    "\n",
    "If we reject the null hypothesis, it means that we believe that there is some sort of relationship between the dependent and independent variables.\n",
    "If we fail to reject the null hypothesis, it means that we believe that  there is no _significant_ relationship between the dependent and independent variables, and that our slope parameter $m$ in $y= mx+c$ is not _significantly_ different from zero. "
   ]
  },
  {
   "cell_type": "markdown",
   "metadata": {},
   "source": [
    "### P-value as a level of statistical significance\n",
    "\n",
    "When performing statistical analyses, rejecting or not rejecting a null hypothesis always goes along with an associated **significance level** or **p-value**.\n",
    "\n",
    "> p-value represents a **probability of observing your results given that the null hypothesis is true**\n",
    " \n",
    "Applied to a regression model, p-values associated with coefficients estimates indicate the probability of observing the associated coefficient given that the null-hypothesis is true. As a result, very small p-values indicate that coefficients are **statistically significant**. A very commonly used cut-off value for the p-value is 0.05. If your p-value is smaller than 0.05, you would say:\n",
    "\n",
    "> The parameter is statistically significant at $\\alpha$ level 0.05. \n",
    "\n",
    "Just like for statistical significance, rejecting the null hypothesis at an alpha level of 0.05 is the equivalent for having a 95% confidence interval around the coefficient that does not include zero. In short\n",
    "\n",
    "> The p-value represents the probability that the coefficient is actually zero. \n",
    "\n",
    "model.pvalues"
   ]
  },
  {
   "cell_type": "markdown",
   "metadata": {},
   "source": [
    "## Project: Regression Modeling with the Boston Housing Dataset"
   ]
  },
  {
   "cell_type": "markdown",
   "metadata": {},
   "source": [
    "https://github.com/slmcamis/dsc-regression-boston-lab-online-ds-ft-051319"
   ]
  },
  {
   "cell_type": "markdown",
   "metadata": {},
   "source": [
    "## Section Recap"
   ]
  },
  {
   "cell_type": "markdown",
   "metadata": {},
   "source": [
    "### Key Takeaways\n",
    "\n",
    "In this section, the nominal focus was on how to perform a linear regression, but the real value was learning how to think about the application of machine learning models to data sets. Key takeaways include:\n",
    "* The Pearson Correlation (range: -1 -> 1) is a standard way to describe the correlation between two variables\n",
    "* Statistical learning theory deals with the problem of finding a predictive function based on data\n",
    "* A loss function calculates how well a given model represents the relationship between data values\n",
    "* A linear regression is simply a (straight) line of best fit for predicting a continuous value (y = mx + c)\n",
    "* The Coefficient of Determination (R Squared) can be used to determine how well a given line fits a given data set\n",
    "* Certain assumptions must hold true for a least squares linear regression to be useful - linearity, normality and heteroscedasticity\n",
    "* Q-Q plots can check for normality in residual errors\n",
    "* The Jarque-Bera test can be used to test for normality - especially when the number of data points is large\n",
    "* The Goldfeld-Quant test can be used to check for homoscedasticity\n"
   ]
  },
  {
   "cell_type": "markdown",
   "metadata": {},
   "source": [
    "QUESTIONS\n",
    "\n",
    "plt.style.use('ggplot') vs plt.style.use('seaborn')\n"
   ]
  },
  {
   "cell_type": "code",
   "execution_count": null,
   "metadata": {},
   "outputs": [],
   "source": []
  }
 ],
 "metadata": {
  "kernelspec": {
   "display_name": "Python 3",
   "language": "python",
   "name": "python3"
  },
  "language_info": {
   "codemirror_mode": {
    "name": "ipython",
    "version": 3
   },
   "file_extension": ".py",
   "mimetype": "text/x-python",
   "name": "python",
   "nbconvert_exporter": "python",
   "pygments_lexer": "ipython3",
   "version": "3.6.6"
  }
 },
 "nbformat": 4,
 "nbformat_minor": 2
}
